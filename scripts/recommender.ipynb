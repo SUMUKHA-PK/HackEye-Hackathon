{
  "nbformat": 4,
  "nbformat_minor": 0,
  "metadata": {
    "colab": {
      "name": "generate_data.ipynb",
      "version": "0.3.2",
      "provenance": [],
      "collapsed_sections": []
    },
    "language_info": {
      "codemirror_mode": {
        "name": "ipython",
        "version": 3
      },
      "file_extension": ".py",
      "mimetype": "text/x-python",
      "name": "python",
      "nbconvert_exporter": "python",
      "pygments_lexer": "ipython3",
      "version": "3.6.7"
    },
    "kernelspec": {
      "display_name": "Python 3",
      "language": "python",
      "name": "python3"
    }
  },
  "cells": [
    {
      "cell_type": "code",
      "metadata": {
        "id": "COAQ4-rnbxeV",
        "colab_type": "code",
        "outputId": "45cb3eb4-2803-4013-83fb-1b1e7ac0ae3c",
        "colab": {
          "base_uri": "https://localhost:8080/",
          "height": 128
        }
      },
      "source": [
        "# Run this cell to mount your Google Drive.\n",
        "from google.colab import drive\n",
        "drive.mount('/content/drive')"
      ],
      "execution_count": 1,
      "outputs": [
        {
          "output_type": "stream",
          "text": [
            "Go to this URL in a browser: https://accounts.google.com/o/oauth2/auth?client_id=947318989803-6bn6qk8qdgf4n4g3pfee6491hc0brc4i.apps.googleusercontent.com&redirect_uri=urn%3Aietf%3Awg%3Aoauth%3A2.0%3Aoob&scope=email%20https%3A%2F%2Fwww.googleapis.com%2Fauth%2Fdocs.test%20https%3A%2F%2Fwww.googleapis.com%2Fauth%2Fdrive%20https%3A%2F%2Fwww.googleapis.com%2Fauth%2Fdrive.photos.readonly%20https%3A%2F%2Fwww.googleapis.com%2Fauth%2Fpeopleapi.readonly&response_type=code\n",
            "\n",
            "Enter your authorization code:\n",
            "··········\n",
            "Mounted at /content/drive\n"
          ],
          "name": "stdout"
        }
      ]
    },
    {
      "cell_type": "code",
      "metadata": {
        "id": "QF3sjLQRbuKN",
        "colab_type": "code",
        "colab": {}
      },
      "source": [
        "import pandas as pd\n",
        "# data=pd.read_csv(\"/content/drive/My Drive/hackathon/recipe_table.csv\")"
      ],
      "execution_count": 0,
      "outputs": []
    },
    {
      "cell_type": "code",
      "metadata": {
        "id": "sjoj0FAg8LOb",
        "colab_type": "code",
        "colab": {}
      },
      "source": [
        "import json\n",
        "file = '/content/drive/My Drive/hackathon/recipe_combos.json'\n",
        "with open(file) as train_file:\n",
        "    dict_train = json.load(train_file)\n",
        "new_data = pd.DataFrame(dict_train)"
      ],
      "execution_count": 0,
      "outputs": []
    },
    {
      "cell_type": "code",
      "metadata": {
        "id": "Dtr-K2nyFDKG",
        "colab_type": "code",
        "outputId": "f3c9dc4a-bfc1-48a8-c272-edcee5b86c03",
        "colab": {
          "base_uri": "https://localhost:8080/",
          "height": 348
        }
      },
      "source": [
        "new_data.head(10)"
      ],
      "execution_count": 40,
      "outputs": [
        {
          "output_type": "execute_result",
          "data": {
            "text/html": [
              "<div>\n",
              "<style scoped>\n",
              "    .dataframe tbody tr th:only-of-type {\n",
              "        vertical-align: middle;\n",
              "    }\n",
              "\n",
              "    .dataframe tbody tr th {\n",
              "        vertical-align: top;\n",
              "    }\n",
              "\n",
              "    .dataframe thead th {\n",
              "        text-align: right;\n",
              "    }\n",
              "</style>\n",
              "<table border=\"1\" class=\"dataframe\">\n",
              "  <thead>\n",
              "    <tr style=\"text-align: right;\">\n",
              "      <th></th>\n",
              "      <th>items</th>\n",
              "      <th>junkness</th>\n",
              "      <th>preferance</th>\n",
              "      <th>recipe_name</th>\n",
              "      <th>recipe_number</th>\n",
              "    </tr>\n",
              "  </thead>\n",
              "  <tbody>\n",
              "    <tr>\n",
              "      <th>0</th>\n",
              "      <td>[cocoa, milk, sugar]</td>\n",
              "      <td>1</td>\n",
              "      <td>0</td>\n",
              "      <td>Chocolate Milkshake</td>\n",
              "      <td>1</td>\n",
              "    </tr>\n",
              "    <tr>\n",
              "      <th>1</th>\n",
              "      <td>[salt, wheat flour, butter, cheese]</td>\n",
              "      <td>2</td>\n",
              "      <td>0</td>\n",
              "      <td>Cheese Sticks</td>\n",
              "      <td>2</td>\n",
              "    </tr>\n",
              "    <tr>\n",
              "      <th>2</th>\n",
              "      <td>[vegetable oil, potatoes, wheat flour, salt]</td>\n",
              "      <td>2</td>\n",
              "      <td>1</td>\n",
              "      <td>Potato Crisps</td>\n",
              "      <td>3</td>\n",
              "    </tr>\n",
              "    <tr>\n",
              "      <th>3</th>\n",
              "      <td>[peanuts, sugar, milk, soy lecithin]</td>\n",
              "      <td>0</td>\n",
              "      <td>0</td>\n",
              "      <td>Peanut Cluster</td>\n",
              "      <td>4</td>\n",
              "    </tr>\n",
              "    <tr>\n",
              "      <th>4</th>\n",
              "      <td>[onions, potatoes, carrots, salt, vegetable oil]</td>\n",
              "      <td>0</td>\n",
              "      <td>1</td>\n",
              "      <td>Mixed Vegetables</td>\n",
              "      <td>5</td>\n",
              "    </tr>\n",
              "    <tr>\n",
              "      <th>5</th>\n",
              "      <td>[squid, salt, vegetable oil]</td>\n",
              "      <td>1</td>\n",
              "      <td>0</td>\n",
              "      <td>Fried Squid</td>\n",
              "      <td>6</td>\n",
              "    </tr>\n",
              "    <tr>\n",
              "      <th>6</th>\n",
              "      <td>[bread, butter, cheese, cucumber, tomato]</td>\n",
              "      <td>1</td>\n",
              "      <td>0</td>\n",
              "      <td>Grilled Sandwich</td>\n",
              "      <td>7</td>\n",
              "    </tr>\n",
              "    <tr>\n",
              "      <th>7</th>\n",
              "      <td>[rice, salt, vegetable oil, chicken, pepper]</td>\n",
              "      <td>2</td>\n",
              "      <td>0</td>\n",
              "      <td>Chicken Biriyani</td>\n",
              "      <td>8</td>\n",
              "    </tr>\n",
              "    <tr>\n",
              "      <th>8</th>\n",
              "      <td>[tomatoes, salt, pepper, water, basil]</td>\n",
              "      <td>0</td>\n",
              "      <td>1</td>\n",
              "      <td>Tomato Soup</td>\n",
              "      <td>9</td>\n",
              "    </tr>\n",
              "    <tr>\n",
              "      <th>9</th>\n",
              "      <td>[potatoes, salt, pepper, vegetable oil]</td>\n",
              "      <td>2</td>\n",
              "      <td>1</td>\n",
              "      <td>Potato Wedges</td>\n",
              "      <td>10</td>\n",
              "    </tr>\n",
              "  </tbody>\n",
              "</table>\n",
              "</div>"
            ],
            "text/plain": [
              "                                              items  ...  recipe_number\n",
              "0                              [cocoa, milk, sugar]  ...              1\n",
              "1               [salt, wheat flour, butter, cheese]  ...              2\n",
              "2      [vegetable oil, potatoes, wheat flour, salt]  ...              3\n",
              "3              [peanuts, sugar, milk, soy lecithin]  ...              4\n",
              "4  [onions, potatoes, carrots, salt, vegetable oil]  ...              5\n",
              "5                      [squid, salt, vegetable oil]  ...              6\n",
              "6         [bread, butter, cheese, cucumber, tomato]  ...              7\n",
              "7      [rice, salt, vegetable oil, chicken, pepper]  ...              8\n",
              "8            [tomatoes, salt, pepper, water, basil]  ...              9\n",
              "9           [potatoes, salt, pepper, vegetable oil]  ...             10\n",
              "\n",
              "[10 rows x 5 columns]"
            ]
          },
          "metadata": {
            "tags": []
          },
          "execution_count": 40
        }
      ]
    },
    {
      "cell_type": "code",
      "metadata": {
        "id": "3c5gTAzQRTar",
        "colab_type": "code",
        "colab": {}
      },
      "source": [
        "all_items_2d = new_data['items'].tolist()\n",
        "all_items = list(set([item for items in all_items_2d for item in items]))"
      ],
      "execution_count": 0,
      "outputs": []
    },
    {
      "cell_type": "code",
      "metadata": {
        "id": "y4xlPEAnbuMK",
        "colab_type": "code",
        "colab": {}
      },
      "source": [
        "classes = {'junkness':['Healthy','Moderate','Junk'],'preferance':['non vegan','vegan']}"
      ],
      "execution_count": 0,
      "outputs": []
    },
    {
      "cell_type": "markdown",
      "metadata": {
        "id": "3YXiDs64IzO6",
        "colab_type": "text"
      },
      "source": [
        ""
      ]
    },
    {
      "cell_type": "code",
      "metadata": {
        "id": "FDG4wuftbuMf",
        "colab_type": "code",
        "colab": {}
      },
      "source": [
        "class_data ={}\n",
        "for key in classes:\n",
        "    value =classes[key]\n",
        "    class_data[key]={}\n",
        "    for ind,label in enumerate(value):\n",
        "        class_data[key][label] = new_data[new_data[key]==ind].recipe_number.tolist()"
      ],
      "execution_count": 0,
      "outputs": []
    },
    {
      "cell_type": "code",
      "metadata": {
        "id": "pgFo_u2VbuMn",
        "colab_type": "code",
        "colab": {}
      },
      "source": [
        "import random\n",
        "def make_user_history(user_info,num_entries):\n",
        "    user_history_recipes= []\n",
        "    user_history_items = []\n",
        "    length = len(user_info)\n",
        "    for key in user_info:\n",
        "        user_pref = user_info[key]\n",
        "        user_pref_string = classes[key][user_pref]\n",
        "        \n",
        "        user_history_recipes += random.sample(class_data[key][user_pref_string],num_entries)\n",
        "    for recipe in user_history_recipes:\n",
        "        user_history_items.append(new_data[new_data.recipe_number == recipe]['items'].iloc[0][0])\n",
        "    return user_history_items"
      ],
      "execution_count": 0,
      "outputs": []
    },
    {
      "cell_type": "code",
      "metadata": {
        "id": "a2wVN3ZhbuMr",
        "colab_type": "code",
        "outputId": "5c493141-65e4-432f-92f2-29c76790e785",
        "colab": {
          "base_uri": "https://localhost:8080/",
          "height": 126
        }
      },
      "source": [
        "# users = [{'junkness':0,'preferance':1},\n",
        "#          {'junkness':2,'preferance':0},\n",
        "#          {'junkness':0,'preferance':2}]\n",
        "# user = {'a':users[0],'b':users[1],'c':users[2]}\n",
        "user_list = [\n",
        "    {\n",
        "        \"junkness\":1,\n",
        "        \"preferance\":0\n",
        "    },\n",
        "    {\n",
        "        \"junkness\":0,\n",
        "        \"preferance\":1\n",
        "    },\n",
        "    {\n",
        "        \"junkness\":2,\n",
        "        \"preferance\":0\n",
        "    },\n",
        "    {\n",
        "        \"junkness\":1,\n",
        "        \"preferance\":1\n",
        "    },\n",
        "    {\n",
        "        \"junkness\":0,\n",
        "        \"preferance\":0\n",
        "    },\n",
        "    {\n",
        "        \"junkness\":2,\n",
        "        \"preferance\":1\n",
        "    }\n",
        "]\n",
        "user_names = ['a','b','c','d','e','f']\n",
        "users = {}\n",
        "for name,value in zip(user_names,user_list):\n",
        "  users[name]=value\n",
        "users"
      ],
      "execution_count": 17,
      "outputs": [
        {
          "output_type": "execute_result",
          "data": {
            "text/plain": [
              "{'a': {'junkness': 1, 'preferance': 0},\n",
              " 'b': {'junkness': 0, 'preferance': 1},\n",
              " 'c': {'junkness': 2, 'preferance': 0},\n",
              " 'd': {'junkness': 1, 'preferance': 1},\n",
              " 'e': {'junkness': 0, 'preferance': 0},\n",
              " 'f': {'junkness': 2, 'preferance': 1}}"
            ]
          },
          "metadata": {
            "tags": []
          },
          "execution_count": 17
        }
      ]
    },
    {
      "cell_type": "code",
      "metadata": {
        "id": "5E8R5YpdbuMu",
        "colab_type": "code",
        "colab": {}
      },
      "source": [
        "user_history = {}"
      ],
      "execution_count": 0,
      "outputs": []
    },
    {
      "cell_type": "code",
      "metadata": {
        "id": "hS4ZvPKNbuMw",
        "colab_type": "code",
        "colab": {}
      },
      "source": [
        "user_history['a']= make_user_history(user['a'],3)"
      ],
      "execution_count": 0,
      "outputs": []
    },
    {
      "cell_type": "code",
      "metadata": {
        "id": "1RT8bvOBiIWg",
        "colab_type": "code",
        "colab": {}
      },
      "source": [
        "for user_name in user_names[1:]:\n",
        "  user_history[user_name] = list(set(make_user_history(user['a'],3)))"
      ],
      "execution_count": 0,
      "outputs": []
    },
    {
      "cell_type": "code",
      "metadata": {
        "id": "rjvwJRURNlqJ",
        "colab_type": "code",
        "colab": {}
      },
      "source": [
        "def get_items(recipes):\n",
        "  recipes = [new_data[new_data.recipe_number == recipe_no ]['items'].values[0] for recipe_no in recipes]\n",
        "  return [item for recipe in recipes for item in recipe]"
      ],
      "execution_count": 0,
      "outputs": []
    },
    {
      "cell_type": "code",
      "metadata": {
        "id": "FJoTCvgvTO1B",
        "colab_type": "code",
        "colab": {}
      },
      "source": [
        "def get_intersection(list_2d):\n",
        "  return list(set(list_2d[0]) & set(list_2d[1]))"
      ],
      "execution_count": 0,
      "outputs": []
    },
    {
      "cell_type": "code",
      "metadata": {
        "colab_type": "code",
        "id": "tohCKesE5KSQ",
        "colab": {}
      },
      "source": [
        "def content_based(user_name):\n",
        "  global user_history,users\n",
        "  current_user = users[user_name]\n",
        "  current_user_history = user_history[user_name]\n",
        "  print(current_user,current_user_history)\n",
        "  suggestions = []\n",
        "  likeable_items = []\n",
        "  for key in classes:\n",
        "    labels = classes[key]\n",
        "    for ind,value in enumerate(labels):\n",
        "      likeable_items.append(get_items(class_data[key][value]))\n",
        "  intersection_items = get_intersection(likeable_items)\n",
        "  print(len(intersection_items))\n",
        "  for elements in intersection_items:\n",
        "      suggestions.append(elements)\n",
        "  return suggestions"
      ],
      "execution_count": 0,
      "outputs": []
    },
    {
      "cell_type": "code",
      "metadata": {
        "id": "jXPGCHEw5YuN",
        "colab_type": "code",
        "colab": {
          "base_uri": "https://localhost:8080/",
          "height": 35
        },
        "outputId": "9a0d2434-c76d-4fdc-ad97-826d4ad8cd62"
      },
      "source": [
        "content_based('a')"
      ],
      "execution_count": 60,
      "outputs": [
        {
          "output_type": "stream",
          "text": [
            "['milk', 'sugar', 'salt']\n"
          ],
          "name": "stdout"
        }
      ]
    },
    {
      "cell_type": "code",
      "metadata": {
        "id": "-3nYEdjuWRKb",
        "colab_type": "code",
        "colab": {}
      },
      "source": [
        "def isalike(u1,u2):\n",
        "  for key in u1:\n",
        "    if u1[key] == u2[key]:\n",
        "      return True\n",
        "  return False"
      ],
      "execution_count": 0,
      "outputs": []
    },
    {
      "cell_type": "code",
      "metadata": {
        "id": "IfCUYfcoVXjG",
        "colab_type": "code",
        "colab": {}
      },
      "source": [
        "def get_similiar_users(user_name):\n",
        "  global users\n",
        "  current_user_info = users[user_name]\n",
        "  similiar_users= []\n",
        "  other_users = [user for user in users.keys() if user!=user_name]\n",
        "  for other_user_name in other_users:\n",
        "    user_info = users[other_user_name]\n",
        "    if isalike(current_user_info,user_info):\n",
        "      similiar_users.append(other_user_name)\n",
        "  return similiar_users"
      ],
      "execution_count": 0,
      "outputs": []
    },
    {
      "cell_type": "code",
      "metadata": {
        "id": "M2k_YFh1buNI",
        "colab_type": "code",
        "colab": {}
      },
      "source": [
        "def collaborative(user_name):\n",
        "    global user_history,users\n",
        "    current_user = users[user_name]\n",
        "    current_user_history = user_history[user_name]\n",
        "    similiar_users = get_similiar_users(user_name)\n",
        "    similiar_histories = []\n",
        "    for sim_user_name in similiar_users:\n",
        "      similiar_histories+=user_history[sim_user_name]\n",
        "    similiar_histories = [i for i in similiar_histories if i not in user_history[user_name]]\n",
        "    likeable_items = []\n",
        "    for key in classes:\n",
        "      labels = classes[key]\n",
        "      for value in labels:\n",
        "        likeable_items.append(get_items(class_data[key][value]))\n",
        "    likeable_items = get_intersection(likeable_items)\n",
        "    return list(set(likeable_items) & set(similiar_histories))"
      ],
      "execution_count": 0,
      "outputs": []
    },
    {
      "cell_type": "code",
      "metadata": {
        "id": "HTRC70MNf33F",
        "colab_type": "code",
        "colab": {}
      },
      "source": [
        "def get_liked_items(user_name):\n",
        "  global classes,class_data,users\n",
        "  user_info = users[user_name]\n",
        "  for key in classes:\n",
        "    labels = classes[key]\n",
        "    likeable_items=[]\n",
        "    for values in labels:\n",
        "      likeable_items.append(get_items(class_data[key][values]))\n",
        "    likeable_items = get_intersection(likeable_items)\n",
        "    return likeable_items"
      ],
      "execution_count": 0,
      "outputs": []
    },
    {
      "cell_type": "code",
      "metadata": {
        "id": "TAyB3Z5hecJF",
        "colab_type": "code",
        "colab": {}
      },
      "source": [
        "def collaborative(user_name):\n",
        "  global users,all_item\n",
        "  item_score = [0 for _ in len(all_items)]\n",
        "  other_users = [user for user in users.keys() if user!=user_name]\n",
        "  for other_name in other_users:\n",
        "    if isalike(user_name,other_name):\n",
        "      for item in get_liked_items(other_name):\n",
        "        item_score[all_items.index(item)]+=1\n",
        "  return all_item[max(item_score)]"
      ],
      "execution_count": 0,
      "outputs": []
    }
  ]
}