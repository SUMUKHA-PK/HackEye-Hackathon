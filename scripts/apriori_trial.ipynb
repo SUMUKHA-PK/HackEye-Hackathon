{
 "cells": [
  {
   "cell_type": "code",
   "execution_count": 105,
   "metadata": {},
   "outputs": [],
   "source": [
    "import pandas as pd\n",
    "from apyori import apriori\n",
    "import numpy as np"
   ]
  },
  {
   "cell_type": "code",
   "execution_count": 106,
   "metadata": {},
   "outputs": [
    {
     "data": {
      "text/plain": [
       "(2008, 2)"
      ]
     },
     "execution_count": 106,
     "metadata": {},
     "output_type": "execute_result"
    }
   ],
   "source": [
    "data_path = \"../data/recipe_table.csv\"\n",
    "data = pd.read_csv(data_path,index_col=\"recipe_number\")\n",
    "data.head()\n",
    "data.shape"
   ]
  },
  {
   "cell_type": "code",
   "execution_count": 107,
   "metadata": {},
   "outputs": [],
   "source": [
    "list_of_lists = data['recipe'].apply(lambda recipe: eval(recipe)).tolist()\n",
    "# list_of_lists = []\n",
    "# blacklist = ['',' ','natural','natural flavor','artificial flavor','blue 1', 'red 3','natural flavors','artificial flavors','dipotassium phosphate','diglycerides','mono','folic acid','niacin','iron lactate']\n",
    "# for item in records:\n",
    "#     item_list = eval(item)\n",
    "#     if(len(item_list)<9 and len(item_list)>1):\n",
    "#         list_of_lists.append([(i.lstrip()).rstrip() for i in item_list if i not in blacklist])\n",
    "# list_of_lists"
   ]
  },
  {
   "cell_type": "code",
   "execution_count": 108,
   "metadata": {},
   "outputs": [],
   "source": [
    "association_rules = apriori(list_of_lists, min_support=0.0035, min_confidence=0.2, min_lift=2, min_length=3)  \n",
    "association_results = list(association_rules)  "
   ]
  },
  {
   "cell_type": "code",
   "execution_count": 109,
   "metadata": {},
   "outputs": [
    {
     "data": {
      "text/plain": [
       "[' cocoa butter', ' chocolate']"
      ]
     },
     "execution_count": 109,
     "metadata": {},
     "output_type": "execute_result"
    }
   ],
   "source": [
    "list(association_results[0].items)"
   ]
  },
  {
   "cell_type": "code",
   "execution_count": 110,
   "metadata": {},
   "outputs": [
    {
     "data": {
      "text/plain": [
       "[[' cocoa butter', ' chocolate'],\n",
       " [' milk fat', ' cocoa butter'],\n",
       " [' cocoa butter', ' soy lecithin'],\n",
       " [' milk ', ' soy ingredients'],\n",
       " ['contains wheat', ' milk '],\n",
       " [' peanut ', 'peanut '],\n",
       " [' sugar', ' salt'],\n",
       " [' water', ' salt'],\n",
       " ['potatoes', ' salt'],\n",
       " [' salt', 'vegetable oil '],\n",
       " [' sea salt', 'sea salt'],\n",
       " ['contains wheat', ' soy ingredients'],\n",
       " [' sugar', 'sugar'],\n",
       " [' yeast', 'barley '],\n",
       " [' yeast', 'hops'],\n",
       " [' yeast', 'water'],\n",
       " ['/or cottonseed oil', 'cashews'],\n",
       " ['/or cottonseed oil', 'peanut '],\n",
       " ['alcohol', 'water'],\n",
       " ['cashews', 'almonds'],\n",
       " ['hops', 'barley '],\n",
       " ['water', 'barley '],\n",
       " ['sugar', 'butter'],\n",
       " ['wheat flour', 'butter'],\n",
       " ['cashews', 'peanut '],\n",
       " ['cashews', 'sea salt'],\n",
       " ['sugar', 'corn syrup'],\n",
       " ['corn syrup', 'water'],\n",
       " ['corrosion inhibitor', 'emulsifier'],\n",
       " ['corrosion inhibitor', 'fragrance'],\n",
       " ['durum wheat semolina', 'ingredients: water'],\n",
       " ['sugar', 'egg whites'],\n",
       " ['emulsifier', 'fragrance'],\n",
       " ['enzymes', 'sodium chloride'],\n",
       " ['fragrance', 'water'],\n",
       " ['garlic', 'onion'],\n",
       " ['garlic', 'salt'],\n",
       " ['water', 'hops'],\n",
       " ['sugar', 'lemon juice'],\n",
       " ['olive oil', 'salt'],\n",
       " ['palm oil', 'salt'],\n",
       " ['peanut ', 'sea salt'],\n",
       " ['potatoes', 'vegetable oil '],\n",
       " ['soybean oil', 'salt'],\n",
       " ['spices', 'salt'],\n",
       " ['vinegar', 'salt'],\n",
       " ['water', 'salt'],\n",
       " ['wheat flour', 'salt'],\n",
       " ['yeast', 'salt'],\n",
       " ['salt ', 'water'],\n",
       " ['sliced ', 'whole fresh potatoes'],\n",
       " ['sugar', 'wheat flour'],\n",
       " ['vinegar', 'water'],\n",
       " ['contains wheat', ' milk ', ' soy ingredients'],\n",
       " ['potatoes', ' salt', 'vegetable oil '],\n",
       " [' yeast', 'hops', 'barley '],\n",
       " [' yeast', 'water', 'barley '],\n",
       " [' yeast', 'water', 'hops'],\n",
       " ['peanut ', '/or cottonseed oil', 'cashews'],\n",
       " ['water', 'hops', 'barley '],\n",
       " ['sugar', 'wheat flour', 'butter'],\n",
       " ['corrosion inhibitor', 'fragrance', 'emulsifier'],\n",
       " ['sugar', 'wheat flour', 'salt'],\n",
       " ['vinegar', 'water', 'salt'],\n",
       " [' yeast', 'water', 'hops', 'barley ']]"
      ]
     },
     "execution_count": 110,
     "metadata": {},
     "output_type": "execute_result"
    }
   ],
   "source": [
    "combos = []\n",
    "for i in range(len(association_results)):\n",
    "    combo = list(association_results[i].items)\n",
    "    if(len(combo)>=2):\n",
    "        combos.append(combo)\n",
    "combos"
   ]
  },
  {
   "cell_type": "code",
   "execution_count": null,
   "metadata": {},
   "outputs": [],
   "source": []
  }
 ],
 "metadata": {
  "kernelspec": {
   "display_name": "Python 3",
   "language": "python",
   "name": "python3"
  },
  "language_info": {
   "codemirror_mode": {
    "name": "ipython",
    "version": 3
   },
   "file_extension": ".py",
   "mimetype": "text/x-python",
   "name": "python",
   "nbconvert_exporter": "python",
   "pygments_lexer": "ipython3",
   "version": "3.6.7"
  }
 },
 "nbformat": 4,
 "nbformat_minor": 2
}
