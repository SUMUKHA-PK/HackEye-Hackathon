{
 "cells": [
  {
   "cell_type": "code",
   "execution_count": 51,
   "metadata": {},
   "outputs": [],
   "source": [
    "classes = {'junkness':['healthy','moderate','junk'],'preferance':['veg','non-veg','vegan'],'cuisine':['ni','si']}"
   ]
  },
  {
   "cell_type": "code",
   "execution_count": 52,
   "metadata": {},
   "outputs": [],
   "source": [
    "import pandas as pd\n",
    "data=pd.read_csv(\"../data/recipe_table.csv\")"
   ]
  },
  {
   "cell_type": "code",
   "execution_count": 53,
   "metadata": {},
   "outputs": [
    {
     "data": {
      "text/html": [
       "<div>\n",
       "<style scoped>\n",
       "    .dataframe tbody tr th:only-of-type {\n",
       "        vertical-align: middle;\n",
       "    }\n",
       "\n",
       "    .dataframe tbody tr th {\n",
       "        vertical-align: top;\n",
       "    }\n",
       "\n",
       "    .dataframe thead th {\n",
       "        text-align: right;\n",
       "    }\n",
       "</style>\n",
       "<table border=\"1\" class=\"dataframe\">\n",
       "  <thead>\n",
       "    <tr style=\"text-align: right;\">\n",
       "      <th></th>\n",
       "      <th>recipe</th>\n",
       "      <th>recipe_number</th>\n",
       "      <th>recipe_name</th>\n",
       "    </tr>\n",
       "  </thead>\n",
       "  <tbody>\n",
       "    <tr>\n",
       "      <th>0</th>\n",
       "      <td>['dried prunes', 'water', 'corn syrup', 'sugar...</td>\n",
       "      <td>0</td>\n",
       "      <td>Simon Fischer Fruit Bttr Prune Lekvar</td>\n",
       "    </tr>\n",
       "    <tr>\n",
       "      <th>1</th>\n",
       "      <td>['mechanically hulled seasame seeds', ' flour'...</td>\n",
       "      <td>1</td>\n",
       "      <td>Ziyad Tahini Sesame Sauce</td>\n",
       "    </tr>\n",
       "    <tr>\n",
       "      <th>2</th>\n",
       "      <td>['garlic powder', 'since 1873']</td>\n",
       "      <td>5</td>\n",
       "      <td>Tone's Garlic Powder, 2.88 Oz</td>\n",
       "    </tr>\n",
       "    <tr>\n",
       "      <th>3</th>\n",
       "      <td>['whole oysters', 'water', 'salt']</td>\n",
       "      <td>11</td>\n",
       "      <td>Whole Oysters</td>\n",
       "    </tr>\n",
       "    <tr>\n",
       "      <th>4</th>\n",
       "      <td>['non pareil capers', 'water', 'salt ', ' vine...</td>\n",
       "      <td>12</td>\n",
       "      <td>Bellino Nonpareil Cape Roasted 3-ounce Ja Roas...</td>\n",
       "    </tr>\n",
       "  </tbody>\n",
       "</table>\n",
       "</div>"
      ],
      "text/plain": [
       "                                              recipe  recipe_number  \\\n",
       "0  ['dried prunes', 'water', 'corn syrup', 'sugar...              0   \n",
       "1  ['mechanically hulled seasame seeds', ' flour'...              1   \n",
       "2                    ['garlic powder', 'since 1873']              5   \n",
       "3                 ['whole oysters', 'water', 'salt']             11   \n",
       "4  ['non pareil capers', 'water', 'salt ', ' vine...             12   \n",
       "\n",
       "                                         recipe_name  \n",
       "0              Simon Fischer Fruit Bttr Prune Lekvar  \n",
       "1                          Ziyad Tahini Sesame Sauce  \n",
       "2                      Tone's Garlic Powder, 2.88 Oz  \n",
       "3                                      Whole Oysters  \n",
       "4  Bellino Nonpareil Cape Roasted 3-ounce Ja Roas...  "
      ]
     },
     "execution_count": 53,
     "metadata": {},
     "output_type": "execute_result"
    }
   ],
   "source": [
    "data.head()"
   ]
  },
  {
   "cell_type": "code",
   "execution_count": 54,
   "metadata": {},
   "outputs": [],
   "source": [
    "import random\n",
    "data['junkness'] = [random.randrange(len(classes['junkness'])) for _ in range(data.shape[0])]"
   ]
  },
  {
   "cell_type": "code",
   "execution_count": 55,
   "metadata": {},
   "outputs": [],
   "source": [
    "data['preferance'] = [random.randrange(len(classes['preferance'])) for _ in range(data.shape[0])]"
   ]
  },
  {
   "cell_type": "code",
   "execution_count": 56,
   "metadata": {},
   "outputs": [],
   "source": [
    "data['cuisine'] = [random.randrange(len(classes['cuisine'])) for _ in range(data.shape[0])]"
   ]
  },
  {
   "cell_type": "code",
   "execution_count": 73,
   "metadata": {
    "scrolled": true
   },
   "outputs": [
    {
     "data": {
      "text/html": [
       "<div>\n",
       "<style scoped>\n",
       "    .dataframe tbody tr th:only-of-type {\n",
       "        vertical-align: middle;\n",
       "    }\n",
       "\n",
       "    .dataframe tbody tr th {\n",
       "        vertical-align: top;\n",
       "    }\n",
       "\n",
       "    .dataframe thead th {\n",
       "        text-align: right;\n",
       "    }\n",
       "</style>\n",
       "<table border=\"1\" class=\"dataframe\">\n",
       "  <thead>\n",
       "    <tr style=\"text-align: right;\">\n",
       "      <th></th>\n",
       "      <th>recipe</th>\n",
       "      <th>recipe_number</th>\n",
       "      <th>recipe_name</th>\n",
       "      <th>junkness</th>\n",
       "      <th>preferance</th>\n",
       "      <th>cuisine</th>\n",
       "    </tr>\n",
       "  </thead>\n",
       "  <tbody>\n",
       "    <tr>\n",
       "      <th>0</th>\n",
       "      <td>['dried prunes', 'water', 'corn syrup', 'sugar...</td>\n",
       "      <td>0</td>\n",
       "      <td>Simon Fischer Fruit Bttr Prune Lekvar</td>\n",
       "      <td>0</td>\n",
       "      <td>0</td>\n",
       "      <td>0</td>\n",
       "    </tr>\n",
       "    <tr>\n",
       "      <th>1</th>\n",
       "      <td>['mechanically hulled seasame seeds', ' flour'...</td>\n",
       "      <td>1</td>\n",
       "      <td>Ziyad Tahini Sesame Sauce</td>\n",
       "      <td>2</td>\n",
       "      <td>1</td>\n",
       "      <td>1</td>\n",
       "    </tr>\n",
       "    <tr>\n",
       "      <th>2</th>\n",
       "      <td>['garlic powder', 'since 1873']</td>\n",
       "      <td>5</td>\n",
       "      <td>Tone's Garlic Powder, 2.88 Oz</td>\n",
       "      <td>1</td>\n",
       "      <td>2</td>\n",
       "      <td>0</td>\n",
       "    </tr>\n",
       "    <tr>\n",
       "      <th>3</th>\n",
       "      <td>['whole oysters', 'water', 'salt']</td>\n",
       "      <td>11</td>\n",
       "      <td>Whole Oysters</td>\n",
       "      <td>2</td>\n",
       "      <td>2</td>\n",
       "      <td>1</td>\n",
       "    </tr>\n",
       "    <tr>\n",
       "      <th>4</th>\n",
       "      <td>['non pareil capers', 'water', 'salt ', ' vine...</td>\n",
       "      <td>12</td>\n",
       "      <td>Bellino Nonpareil Cape Roasted 3-ounce Ja Roas...</td>\n",
       "      <td>2</td>\n",
       "      <td>0</td>\n",
       "      <td>0</td>\n",
       "    </tr>\n",
       "  </tbody>\n",
       "</table>\n",
       "</div>"
      ],
      "text/plain": [
       "                                              recipe  recipe_number  \\\n",
       "0  ['dried prunes', 'water', 'corn syrup', 'sugar...              0   \n",
       "1  ['mechanically hulled seasame seeds', ' flour'...              1   \n",
       "2                    ['garlic powder', 'since 1873']              5   \n",
       "3                 ['whole oysters', 'water', 'salt']             11   \n",
       "4  ['non pareil capers', 'water', 'salt ', ' vine...             12   \n",
       "\n",
       "                                         recipe_name  junkness  preferance  \\\n",
       "0              Simon Fischer Fruit Bttr Prune Lekvar         0           0   \n",
       "1                          Ziyad Tahini Sesame Sauce         2           1   \n",
       "2                      Tone's Garlic Powder, 2.88 Oz         1           2   \n",
       "3                                      Whole Oysters         2           2   \n",
       "4  Bellino Nonpareil Cape Roasted 3-ounce Ja Roas...         2           0   \n",
       "\n",
       "   cuisine  \n",
       "0        0  \n",
       "1        1  \n",
       "2        0  \n",
       "3        1  \n",
       "4        0  "
      ]
     },
     "execution_count": 73,
     "metadata": {},
     "output_type": "execute_result"
    }
   ],
   "source": [
    "data.head()"
   ]
  },
  {
   "cell_type": "code",
   "execution_count": 71,
   "metadata": {},
   "outputs": [],
   "source": [
    "users = [{'junkness':0,'preferance':1,'cuisine':0},\n",
    "         {'junkness':2,'preferance':0,'cuisine':1},\n",
    "         {'junkness':0,'preferance':2,'cuisine':0}]\n",
    "user = {'a':users[0],'b':users[1],'c':users[2]}"
   ]
  },
  {
   "cell_type": "code",
   "execution_count": 59,
   "metadata": {},
   "outputs": [],
   "source": [
    "user_history = {'a':[],'b':[],'c':[]}"
   ]
  },
  {
   "cell_type": "code",
   "execution_count": 60,
   "metadata": {},
   "outputs": [],
   "source": [
    "class_data ={}\n",
    "for key in classes:\n",
    "    value =classes[key]\n",
    "    class_data[key]={}\n",
    "    for ind,label in enumerate(value):\n",
    "        class_data[key][label] = data[data[key]==ind].recipe_number.tolist()"
   ]
  },
  {
   "cell_type": "code",
   "execution_count": 63,
   "metadata": {},
   "outputs": [
    {
     "data": {
      "text/plain": [
       "dict_keys(['junkness', 'preferance', 'cuisine'])"
      ]
     },
     "execution_count": 63,
     "metadata": {},
     "output_type": "execute_result"
    }
   ],
   "source": [
    "class_data.keys()"
   ]
  },
  {
   "cell_type": "code",
   "execution_count": 64,
   "metadata": {},
   "outputs": [
    {
     "data": {
      "text/plain": [
       "dict_keys(['healthy', 'moderate', 'junk'])"
      ]
     },
     "execution_count": 64,
     "metadata": {},
     "output_type": "execute_result"
    }
   ],
   "source": [
    "class_data['junkness'].keys()"
   ]
  },
  {
   "cell_type": "code",
   "execution_count": 65,
   "metadata": {},
   "outputs": [
    {
     "data": {
      "text/plain": [
       "dict_keys(['veg', 'non-veg', 'vegan'])"
      ]
     },
     "execution_count": 65,
     "metadata": {},
     "output_type": "execute_result"
    }
   ],
   "source": [
    "class_data['preferance'].keys()"
   ]
  },
  {
   "cell_type": "code",
   "execution_count": 66,
   "metadata": {},
   "outputs": [
    {
     "data": {
      "text/plain": [
       "dict_keys(['ni', 'si'])"
      ]
     },
     "execution_count": 66,
     "metadata": {},
     "output_type": "execute_result"
    }
   ],
   "source": [
    "class_data['cuisine'].keys()"
   ]
  },
  {
   "cell_type": "code",
   "execution_count": 98,
   "metadata": {},
   "outputs": [],
   "source": [
    "def make_user_history(user_info,num_entries):\n",
    "    user_history= []\n",
    "    length = len(user_info)\n",
    "    for key in user_info:\n",
    "        user_pref = user_info[key]\n",
    "        user_pref_string = classes[key][user_pref]\n",
    "        user_history += random.sample(class_data[key][user_pref_string],num_entries//len(user_info))\n",
    "    return user_history"
   ]
  },
  {
   "cell_type": "code",
   "execution_count": 100,
   "metadata": {},
   "outputs": [],
   "source": [
    "user_history['a'] = make_user_history(user['a'],10)"
   ]
  },
  {
   "cell_type": "code",
   "execution_count": 101,
   "metadata": {},
   "outputs": [
    {
     "data": {
      "text/plain": [
       "{'a': [2515, 3143, 1215, 2404, 17, 3210, 2418, 534, 12], 'b': [], 'c': []}"
      ]
     },
     "execution_count": 101,
     "metadata": {},
     "output_type": "execute_result"
    }
   ],
   "source": [
    "user_history"
   ]
  }
 ],
 "metadata": {
  "kernelspec": {
   "display_name": "Python 3",
   "language": "python",
   "name": "python3"
  },
  "language_info": {
   "codemirror_mode": {
    "name": "ipython",
    "version": 3
   },
   "file_extension": ".py",
   "mimetype": "text/x-python",
   "name": "python",
   "nbconvert_exporter": "python",
   "pygments_lexer": "ipython3",
   "version": "3.6.7"
  }
 },
 "nbformat": 4,
 "nbformat_minor": 2
}
